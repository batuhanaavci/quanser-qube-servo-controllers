{
 "cells": [
  {
   "cell_type": "markdown",
   "metadata": {},
   "source": [
    "# LQR Control Lab. Helper - Calculating Different K Matrices Depending On Q and R"
   ]
  },
  {
   "cell_type": "code",
   "execution_count": 8,
   "metadata": {},
   "outputs": [],
   "source": [
    "import numpy as np\n",
    "from scipy.linalg import solve_continuous_are\n",
    "import matplotlib.pyplot as plt\n",
    "# !pip install control # Run this if control library is not installed, otherwise use scipy\n",
    "import control as ct"
   ]
  },
  {
   "cell_type": "markdown",
   "metadata": {},
   "source": [
    "Here are the system parameters to define the Linearized model of the system:"
   ]
  },
  {
   "cell_type": "code",
   "execution_count": 9,
   "metadata": {},
   "outputs": [],
   "source": [
    "# Define the physical constants\n",
    "\n",
    "## Motor\n",
    "# Resistance\n",
    "Rm = 8.4\n",
    "# Current-torque (N-m/A)\n",
    "kt = 0.042\n",
    "# Back-emf constant (V-s/rad)\n",
    "km = 0.042\n",
    "#\n",
    "## Rotary Arm\n",
    "# Mass (kg)\n",
    "mr = 0.095\n",
    "# Total length (m)\n",
    "r = 0.085\n",
    "# Moment of inertia about pivot (kg-m^2)\n",
    "Jr = mr*r**2/3\n",
    "# Equivalent Viscous Damping Coefficient (N-m-s/rad)\n",
    "br = 1e-3 # damping tuned heuristically to match QUBE-Sero 2 response\n",
    "#\n",
    "## Pendulum Link\n",
    "# Mass (kg)\n",
    "mp = 0.024\n",
    "# Total length (m)\n",
    "Lp = 0.129\n",
    "# Pendulum center of mass (m)\n",
    "l = Lp/2\n",
    "# Moment of inertia about pivot (kg-m^2)\n",
    "Jp = mp*Lp**2/3\n",
    "# Equivalent Viscous Damping Coefficient (N-m-s/rad)\n",
    "bp = 5e-5 # damping tuned heuristically to match QUBE-Sero 2 response\n",
    "# Gravity Constant\n",
    "g = 9.81\n",
    "\n",
    "# Find Total Inertia\n",
    "Jt = Jr*Jp - mp**2*r**2*l**2"
   ]
  },
  {
   "cell_type": "markdown",
   "metadata": {},
   "source": [
    "Let's create a linearized model of the system. The state-space representation of the system is given below:"
   ]
  },
  {
   "cell_type": "code",
   "execution_count": null,
   "metadata": {},
   "outputs": [],
   "source": [
    "A = np.array([\n",
    "    [0, 0, 1, 0],\n",
    "    [0, 0, 0, 1],\n",
    "    [0, mp**2*l**2*r*g/Jt, -br*Jp/Jt, -mp*l*r*bp/Jt],\n",
    "    [0, mp*g*l*Jr/Jt, -mp*l*r*br/Jt, -Jp*bp/Jt]\n",
    "])\n",
    "\n",
    "B = np.array([\n",
    "    [0],\n",
    "    [0],\n",
    "    [Jp/Jt],\n",
    "    [mp*l*r/Jt]\n",
    "])\n",
    "\n",
    "C = np.eye(2, 4)\n",
    "\n",
    "D = np.zeros((2, 1))\n",
    "\n",
    "# Add actuator dynamics\n",
    "# Transform torque into motor voltage\n",
    "A[2,2] = A[2,2] - km*km/Rm*B[2]\n",
    "A[3,2] = A[3,2] - km*km/Rm*B[3]\n",
    "B = km * B / Rm\n",
    "\n",
    "sys = ct.ss(A, B, C, D)"
   ]
  },
  {
   "cell_type": "markdown",
   "metadata": {},
   "source": [
    "Let's define Q and R matrices and calculate the K matrix for different Q and R matrices."
   ]
  },
  {
   "cell_type": "code",
   "execution_count": null,
   "metadata": {},
   "outputs": [],
   "source": [
    "# Let's call this as standart gain matrix K, penalizes every state variable equally\n",
    "\n",
    "Q = np.eye(4)\n",
    "R = 1\n",
    "\n",
    "K, _, _ = ct.lqr(sys, Q, R)\n",
    "print(\"K\", K)"
   ]
  },
  {
   "cell_type": "code",
   "execution_count": null,
   "metadata": {},
   "outputs": [],
   "source": [
    "\n",
    "Q = np.eye(4)\n",
    "Q[0,0] = 20\n",
    "# Since we are penalizing theta more, the system will try to keep theta as close to zero as possible\n",
    "R = 1\n",
    "\n",
    "\n",
    "K_theta_high, _, _ = ct.lqr(sys, Q, R)\n",
    "print(\"K_theta_high = \", K_theta_high)"
   ]
  },
  {
   "cell_type": "code",
   "execution_count": null,
   "metadata": {},
   "outputs": [],
   "source": [
    "Q = np.eye(4)\n",
    "Q[1,1]= 20\n",
    "# Since we are penalizing alpha more, the system will try to keep alpha as close to zero as possible\n",
    "R = 1\n",
    "\n",
    "K_alpha_high, _, _ = ct.lqr(sys, Q, R)\n",
    "print(\"K_alpha_high = \", K_alpha_high)"
   ]
  },
  {
   "cell_type": "code",
   "execution_count": null,
   "metadata": {},
   "outputs": [],
   "source": [
    "Q = np.eye(4)\n",
    "Q[0,0] = 0.1\n",
    "# Since we are penalizing theta less, the system won't care much about theta\n",
    "R = 1\n",
    "\n",
    "K_theta_low, _, _ = ct.lqr(sys, Q, R)\n",
    "print(\"K_theta_low = \", K_theta_low)"
   ]
  }
 ],
 "metadata": {
  "kernelspec": {
   "display_name": "Python 3",
   "language": "python",
   "name": "python3"
  },
  "language_info": {
   "codemirror_mode": {
    "name": "ipython",
    "version": 3
   },
   "file_extension": ".py",
   "mimetype": "text/x-python",
   "name": "python",
   "nbconvert_exporter": "python",
   "pygments_lexer": "ipython3",
   "version": "3.9.6"
  }
 },
 "nbformat": 4,
 "nbformat_minor": 2
}
